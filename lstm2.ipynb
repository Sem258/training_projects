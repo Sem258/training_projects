{
 "cells": [
  {
   "cell_type": "code",
   "execution_count": 1,
   "id": "7acb3300-b5e7-4ee0-ad1e-a31ecaa75a72",
   "metadata": {},
   "outputs": [],
   "source": [
    "#В данном проекте я пытаюсь предсказать цену криптовалюты с использованием алгоритма LSTM"
   ]
  },
  {
   "cell_type": "code",
   "execution_count": 2,
   "id": "8639be2b-ba8f-4d0a-a6fa-2d222aef4159",
   "metadata": {},
   "outputs": [],
   "source": [
    "import seaborn as sns\n",
    "from pylab import rcParams\n",
    "import matplotlib.pyplot as plt\n",
    "from matplotlib import rc\n",
    "import math\n",
    "import matplotlib\n",
    "\n",
    "import pandas as pd\n",
    "import numpy as np\n",
    "from tqdm.notebook import tqdm\n",
    "import pytorch_lightning as pl \n",
    "from pytorch_lightning.callbacks import ModelCheckpoint, EarlyStopping\n",
    "from pytorch_lightning.loggers import TensorBoardLogger\n",
    "from sklearn.preprocessing import MinMaxScaler\n",
    "\n",
    "import torch\n",
    "import torch.autograd as autograd\n",
    "import torch.nn as nn\n",
    "import torch.nn.functional as F\n",
    "import torch.optim as optim\n",
    "from torch.utils.data import Dataset,DataLoader\n",
    "from collections import defaultdict"
   ]
  },
  {
   "cell_type": "code",
   "execution_count": 3,
   "id": "9b0e94dd-6d13-4098-8a8f-e9b508eab7c4",
   "metadata": {},
   "outputs": [
    {
     "name": "stdout",
     "output_type": "stream",
     "text": [
      "using device cuda:0\n"
     ]
    }
   ],
   "source": [
    "#Настраиваем параметры для использования gpu\n",
    "pl.seed_everything = 42\n",
    "torch.backends.cudnn.determinstic = True\n",
    "torch.backends.cudnn.benchmark = False\n",
    "device = torch.device(\"cpu\") if not torch.cuda.is_available() else torch.device(\"cuda:0\")\n",
    "print(\"using device\", device)"
   ]
  },
  {
   "cell_type": "code",
   "execution_count": 4,
   "id": "155c76ea-3050-40da-aee0-8cc60689e064",
   "metadata": {},
   "outputs": [
    {
     "data": {
      "text/plain": [
       "(273288, 10)"
      ]
     },
     "execution_count": 4,
     "metadata": {},
     "output_type": "execute_result"
    }
   ],
   "source": [
    "#Читаем датасет\n",
    "df = pd.read_csv(\"Binance_BTCUSDT_minute.csv\", parse_dates=[\"date\"])\n",
    "df = df.sort_values(by=\"date\").reset_index(drop=True)\n",
    "df.head()\n",
    "df.shape"
   ]
  },
  {
   "cell_type": "code",
   "execution_count": 5,
   "id": "24f18402-6931-4fd1-869c-f5bda2404da9",
   "metadata": {},
   "outputs": [
    {
     "data": {
      "text/html": [
       "<div>\n",
       "<style scoped>\n",
       "    .dataframe tbody tr th:only-of-type {\n",
       "        vertical-align: middle;\n",
       "    }\n",
       "\n",
       "    .dataframe tbody tr th {\n",
       "        vertical-align: top;\n",
       "    }\n",
       "\n",
       "    .dataframe thead th {\n",
       "        text-align: right;\n",
       "    }\n",
       "</style>\n",
       "<table border=\"1\" class=\"dataframe\">\n",
       "  <thead>\n",
       "    <tr style=\"text-align: right;\">\n",
       "      <th></th>\n",
       "      <th>unix</th>\n",
       "      <th>date</th>\n",
       "      <th>symbol</th>\n",
       "      <th>open</th>\n",
       "      <th>high</th>\n",
       "      <th>low</th>\n",
       "      <th>close</th>\n",
       "      <th>Volume BTC</th>\n",
       "      <th>Volume USDT</th>\n",
       "      <th>tradecount</th>\n",
       "      <th>prev_close</th>\n",
       "    </tr>\n",
       "  </thead>\n",
       "  <tbody>\n",
       "    <tr>\n",
       "      <th>0</th>\n",
       "      <td>1599856800000</td>\n",
       "      <td>2020-09-11 20:40:00</td>\n",
       "      <td>BTC/USDT</td>\n",
       "      <td>10317.00</td>\n",
       "      <td>10317.01</td>\n",
       "      <td>10314.36</td>\n",
       "      <td>10316.00</td>\n",
       "      <td>32.997684</td>\n",
       "      <td>340398.477553</td>\n",
       "      <td>342</td>\n",
       "      <td>NaN</td>\n",
       "    </tr>\n",
       "    <tr>\n",
       "      <th>1</th>\n",
       "      <td>1599856860000</td>\n",
       "      <td>2020-09-11 20:41:00</td>\n",
       "      <td>BTC/USDT</td>\n",
       "      <td>10316.00</td>\n",
       "      <td>10321.09</td>\n",
       "      <td>10316.00</td>\n",
       "      <td>10319.50</td>\n",
       "      <td>16.328427</td>\n",
       "      <td>168497.705251</td>\n",
       "      <td>256</td>\n",
       "      <td>10316.00</td>\n",
       "    </tr>\n",
       "    <tr>\n",
       "      <th>2</th>\n",
       "      <td>1599856920000</td>\n",
       "      <td>2020-09-11 20:42:00</td>\n",
       "      <td>BTC/USDT</td>\n",
       "      <td>10319.50</td>\n",
       "      <td>10320.31</td>\n",
       "      <td>10318.49</td>\n",
       "      <td>10319.34</td>\n",
       "      <td>12.123487</td>\n",
       "      <td>125108.931436</td>\n",
       "      <td>193</td>\n",
       "      <td>10319.50</td>\n",
       "    </tr>\n",
       "    <tr>\n",
       "      <th>3</th>\n",
       "      <td>1599856980000</td>\n",
       "      <td>2020-09-11 20:43:00</td>\n",
       "      <td>BTC/USDT</td>\n",
       "      <td>10319.34</td>\n",
       "      <td>10320.14</td>\n",
       "      <td>10318.89</td>\n",
       "      <td>10319.00</td>\n",
       "      <td>13.548103</td>\n",
       "      <td>139806.963489</td>\n",
       "      <td>187</td>\n",
       "      <td>10319.34</td>\n",
       "    </tr>\n",
       "    <tr>\n",
       "      <th>4</th>\n",
       "      <td>1599857040000</td>\n",
       "      <td>2020-09-11 20:44:00</td>\n",
       "      <td>BTC/USDT</td>\n",
       "      <td>10318.99</td>\n",
       "      <td>10319.72</td>\n",
       "      <td>10316.58</td>\n",
       "      <td>10319.47</td>\n",
       "      <td>14.466964</td>\n",
       "      <td>149266.708094</td>\n",
       "      <td>284</td>\n",
       "      <td>10319.00</td>\n",
       "    </tr>\n",
       "  </tbody>\n",
       "</table>\n",
       "</div>"
      ],
      "text/plain": [
       "            unix                date    symbol      open      high       low  \\\n",
       "0  1599856800000 2020-09-11 20:40:00  BTC/USDT  10317.00  10317.01  10314.36   \n",
       "1  1599856860000 2020-09-11 20:41:00  BTC/USDT  10316.00  10321.09  10316.00   \n",
       "2  1599856920000 2020-09-11 20:42:00  BTC/USDT  10319.50  10320.31  10318.49   \n",
       "3  1599856980000 2020-09-11 20:43:00  BTC/USDT  10319.34  10320.14  10318.89   \n",
       "4  1599857040000 2020-09-11 20:44:00  BTC/USDT  10318.99  10319.72  10316.58   \n",
       "\n",
       "      close  Volume BTC    Volume USDT  tradecount  prev_close  \n",
       "0  10316.00   32.997684  340398.477553         342         NaN  \n",
       "1  10319.50   16.328427  168497.705251         256    10316.00  \n",
       "2  10319.34   12.123487  125108.931436         193    10319.50  \n",
       "3  10319.00   13.548103  139806.963489         187    10319.34  \n",
       "4  10319.47   14.466964  149266.708094         284    10319.00  "
      ]
     },
     "execution_count": 5,
     "metadata": {},
     "output_type": "execute_result"
    }
   ],
   "source": [
    "#Смещаем целевую переменную\n",
    "df[\"prev_close\"] = df.shift(1)[\"close\"]\n",
    "df.head()"
   ]
  },
  {
   "cell_type": "code",
   "execution_count": 6,
   "id": "c8d34b6d-532f-4d9d-ae97-300bba1289bf",
   "metadata": {},
   "outputs": [
    {
     "data": {
      "application/vnd.jupyter.widget-view+json": {
       "model_id": "8a4682adf3214441b830c45921ddf184",
       "version_major": 2,
       "version_minor": 0
      },
      "text/plain": [
       "  0%|          | 0/273288 [00:00<?, ?it/s]"
      ]
     },
     "metadata": {},
     "output_type": "display_data"
    }
   ],
   "source": [
    "#Считаем дельту\n",
    "tqdm.pandas()\n",
    "df[\"close_change\"] = df.progress_apply(\n",
    "    lambda row: 0 if np.isnan(row.prev_close) else row.close - row.prev_close,\n",
    "    axis=1\n",
    ")"
   ]
  },
  {
   "cell_type": "code",
   "execution_count": 7,
   "id": "ba4fb62d-036f-4370-96ab-2c33660a2d69",
   "metadata": {},
   "outputs": [
    {
     "data": {
      "application/vnd.jupyter.widget-view+json": {
       "model_id": "484e6a5438084b51a75481dc1b6d95bc",
       "version_major": 2,
       "version_minor": 0
      },
      "text/plain": [
       "  0%|          | 0/273288 [00:00<?, ?it/s]"
      ]
     },
     "metadata": {},
     "output_type": "display_data"
    }
   ],
   "source": [
    "#Добавляем новые признаки\n",
    "rows = []\n",
    "\n",
    "for _, row in tqdm(df.iterrows(), total=df.shape[0]):\n",
    "    row_data = dict(\n",
    "        day_of_week=row.date.dayofweek,\n",
    "        day_of_month=row.date.day,\n",
    "        week_of_year=row.date.week,\n",
    "        month=row.date.month,\n",
    "        open=row.open,\n",
    "        high=row.high,\n",
    "        low=row.low,\n",
    "        close_change=row.close_change,\n",
    "        close=row.close\n",
    "    )\n",
    "\n",
    "    rows.append(row_data)\n",
    "\n",
    "features_df = pd.DataFrame(rows)"
   ]
  },
  {
   "cell_type": "code",
   "execution_count": 8,
   "id": "c93cdee6-4112-4eb9-9b0d-8bfaf98dc9f3",
   "metadata": {},
   "outputs": [
    {
     "data": {
      "text/plain": [
       "(273288, 9)"
      ]
     },
     "execution_count": 8,
     "metadata": {},
     "output_type": "execute_result"
    }
   ],
   "source": [
    "features_df.shape"
   ]
  },
  {
   "cell_type": "code",
   "execution_count": 9,
   "id": "c9fb25cf-145f-4914-91d8-43cf76fa4f17",
   "metadata": {},
   "outputs": [
    {
     "data": {
      "text/html": [
       "<div>\n",
       "<style scoped>\n",
       "    .dataframe tbody tr th:only-of-type {\n",
       "        vertical-align: middle;\n",
       "    }\n",
       "\n",
       "    .dataframe tbody tr th {\n",
       "        vertical-align: top;\n",
       "    }\n",
       "\n",
       "    .dataframe thead th {\n",
       "        text-align: right;\n",
       "    }\n",
       "</style>\n",
       "<table border=\"1\" class=\"dataframe\">\n",
       "  <thead>\n",
       "    <tr style=\"text-align: right;\">\n",
       "      <th></th>\n",
       "      <th>day_of_week</th>\n",
       "      <th>day_of_month</th>\n",
       "      <th>week_of_year</th>\n",
       "      <th>month</th>\n",
       "      <th>open</th>\n",
       "      <th>high</th>\n",
       "      <th>low</th>\n",
       "      <th>close_change</th>\n",
       "      <th>close</th>\n",
       "    </tr>\n",
       "  </thead>\n",
       "  <tbody>\n",
       "    <tr>\n",
       "      <th>0</th>\n",
       "      <td>4</td>\n",
       "      <td>11</td>\n",
       "      <td>37</td>\n",
       "      <td>9</td>\n",
       "      <td>10317.00</td>\n",
       "      <td>10317.01</td>\n",
       "      <td>10314.36</td>\n",
       "      <td>0.00</td>\n",
       "      <td>10316.00</td>\n",
       "    </tr>\n",
       "    <tr>\n",
       "      <th>1</th>\n",
       "      <td>4</td>\n",
       "      <td>11</td>\n",
       "      <td>37</td>\n",
       "      <td>9</td>\n",
       "      <td>10316.00</td>\n",
       "      <td>10321.09</td>\n",
       "      <td>10316.00</td>\n",
       "      <td>3.50</td>\n",
       "      <td>10319.50</td>\n",
       "    </tr>\n",
       "    <tr>\n",
       "      <th>2</th>\n",
       "      <td>4</td>\n",
       "      <td>11</td>\n",
       "      <td>37</td>\n",
       "      <td>9</td>\n",
       "      <td>10319.50</td>\n",
       "      <td>10320.31</td>\n",
       "      <td>10318.49</td>\n",
       "      <td>-0.16</td>\n",
       "      <td>10319.34</td>\n",
       "    </tr>\n",
       "    <tr>\n",
       "      <th>3</th>\n",
       "      <td>4</td>\n",
       "      <td>11</td>\n",
       "      <td>37</td>\n",
       "      <td>9</td>\n",
       "      <td>10319.34</td>\n",
       "      <td>10320.14</td>\n",
       "      <td>10318.89</td>\n",
       "      <td>-0.34</td>\n",
       "      <td>10319.00</td>\n",
       "    </tr>\n",
       "    <tr>\n",
       "      <th>4</th>\n",
       "      <td>4</td>\n",
       "      <td>11</td>\n",
       "      <td>37</td>\n",
       "      <td>9</td>\n",
       "      <td>10318.99</td>\n",
       "      <td>10319.72</td>\n",
       "      <td>10316.58</td>\n",
       "      <td>0.47</td>\n",
       "      <td>10319.47</td>\n",
       "    </tr>\n",
       "  </tbody>\n",
       "</table>\n",
       "</div>"
      ],
      "text/plain": [
       "   day_of_week  day_of_month  week_of_year  month      open      high  \\\n",
       "0            4            11            37      9  10317.00  10317.01   \n",
       "1            4            11            37      9  10316.00  10321.09   \n",
       "2            4            11            37      9  10319.50  10320.31   \n",
       "3            4            11            37      9  10319.34  10320.14   \n",
       "4            4            11            37      9  10318.99  10319.72   \n",
       "\n",
       "        low  close_change     close  \n",
       "0  10314.36          0.00  10316.00  \n",
       "1  10316.00          3.50  10319.50  \n",
       "2  10318.49         -0.16  10319.34  \n",
       "3  10318.89         -0.34  10319.00  \n",
       "4  10316.58          0.47  10319.47  "
      ]
     },
     "execution_count": 9,
     "metadata": {},
     "output_type": "execute_result"
    }
   ],
   "source": [
    "features_df.head()"
   ]
  },
  {
   "cell_type": "code",
   "execution_count": 10,
   "id": "eeb70b37-61df-4bef-b601-aac3791cdb5c",
   "metadata": {},
   "outputs": [
    {
     "data": {
      "text/plain": [
       "245959"
      ]
     },
     "execution_count": 10,
     "metadata": {},
     "output_type": "execute_result"
    }
   ],
   "source": [
    "#Разбиваем на трейн и тест\n",
    "train_size = int(len(features_df)*.9)\n",
    "train_size"
   ]
  },
  {
   "cell_type": "code",
   "execution_count": 11,
   "id": "b79186b2-66fc-4307-b0d4-27215f69167f",
   "metadata": {},
   "outputs": [
    {
     "data": {
      "text/plain": [
       "((245959, 9), (27328, 9))"
      ]
     },
     "execution_count": 11,
     "metadata": {},
     "output_type": "execute_result"
    }
   ],
   "source": [
    "train_df, test_df = features_df[:train_size], features_df[train_size + 1:]\n",
    "train_df.shape, test_df.shape"
   ]
  },
  {
   "cell_type": "code",
   "execution_count": 12,
   "id": "a919a689-5d0d-40c7-be61-cdd92a3be1f2",
   "metadata": {},
   "outputs": [],
   "source": [
    "#Масштабируем признаки\n",
    "scaler = MinMaxScaler(feature_range=(-1,1))\n",
    "scaler = scaler.fit(train_df)"
   ]
  },
  {
   "cell_type": "code",
   "execution_count": 13,
   "id": "cbe9486c-f0b7-4611-8146-7056962f6ccb",
   "metadata": {},
   "outputs": [],
   "source": [
    "train_df = pd.DataFrame(\n",
    "    scaler.transform(train_df),\n",
    "    index=train_df.index,\n",
    "    columns=train_df.columns\n",
    ")"
   ]
  },
  {
   "cell_type": "code",
   "execution_count": 14,
   "id": "fd669102-ba94-43cc-ad38-7379f03b1aa6",
   "metadata": {},
   "outputs": [],
   "source": [
    "test_df = pd.DataFrame(\n",
    "    scaler.transform(test_df),\n",
    "    index=test_df.index,\n",
    "    columns=test_df.columns\n",
    ")"
   ]
  },
  {
   "cell_type": "code",
   "execution_count": 15,
   "id": "05951ced-62e5-4808-9317-4c0147172b5a",
   "metadata": {},
   "outputs": [
    {
     "data": {
      "text/html": [
       "<div>\n",
       "<style scoped>\n",
       "    .dataframe tbody tr th:only-of-type {\n",
       "        vertical-align: middle;\n",
       "    }\n",
       "\n",
       "    .dataframe tbody tr th {\n",
       "        vertical-align: top;\n",
       "    }\n",
       "\n",
       "    .dataframe thead th {\n",
       "        text-align: right;\n",
       "    }\n",
       "</style>\n",
       "<table border=\"1\" class=\"dataframe\">\n",
       "  <thead>\n",
       "    <tr style=\"text-align: right;\">\n",
       "      <th></th>\n",
       "      <th>day_of_week</th>\n",
       "      <th>day_of_month</th>\n",
       "      <th>week_of_year</th>\n",
       "      <th>month</th>\n",
       "      <th>open</th>\n",
       "      <th>high</th>\n",
       "      <th>low</th>\n",
       "      <th>close_change</th>\n",
       "      <th>close</th>\n",
       "    </tr>\n",
       "  </thead>\n",
       "  <tbody>\n",
       "    <tr>\n",
       "      <th>0</th>\n",
       "      <td>0.333333</td>\n",
       "      <td>-0.333333</td>\n",
       "      <td>0.384615</td>\n",
       "      <td>0.454545</td>\n",
       "      <td>-0.993056</td>\n",
       "      <td>-0.993463</td>\n",
       "      <td>-0.992628</td>\n",
       "      <td>0.242895</td>\n",
       "      <td>-0.993097</td>\n",
       "    </tr>\n",
       "    <tr>\n",
       "      <th>1</th>\n",
       "      <td>0.333333</td>\n",
       "      <td>-0.333333</td>\n",
       "      <td>0.384615</td>\n",
       "      <td>0.454545</td>\n",
       "      <td>-0.993097</td>\n",
       "      <td>-0.993294</td>\n",
       "      <td>-0.992559</td>\n",
       "      <td>0.244938</td>\n",
       "      <td>-0.992952</td>\n",
       "    </tr>\n",
       "    <tr>\n",
       "      <th>2</th>\n",
       "      <td>0.333333</td>\n",
       "      <td>-0.333333</td>\n",
       "      <td>0.384615</td>\n",
       "      <td>0.454545</td>\n",
       "      <td>-0.992952</td>\n",
       "      <td>-0.993326</td>\n",
       "      <td>-0.992456</td>\n",
       "      <td>0.242802</td>\n",
       "      <td>-0.992959</td>\n",
       "    </tr>\n",
       "    <tr>\n",
       "      <th>3</th>\n",
       "      <td>0.333333</td>\n",
       "      <td>-0.333333</td>\n",
       "      <td>0.384615</td>\n",
       "      <td>0.454545</td>\n",
       "      <td>-0.992959</td>\n",
       "      <td>-0.993333</td>\n",
       "      <td>-0.992439</td>\n",
       "      <td>0.242697</td>\n",
       "      <td>-0.992973</td>\n",
       "    </tr>\n",
       "    <tr>\n",
       "      <th>4</th>\n",
       "      <td>0.333333</td>\n",
       "      <td>-0.333333</td>\n",
       "      <td>0.384615</td>\n",
       "      <td>0.454545</td>\n",
       "      <td>-0.992973</td>\n",
       "      <td>-0.993351</td>\n",
       "      <td>-0.992535</td>\n",
       "      <td>0.243169</td>\n",
       "      <td>-0.992953</td>\n",
       "    </tr>\n",
       "  </tbody>\n",
       "</table>\n",
       "</div>"
      ],
      "text/plain": [
       "   day_of_week  day_of_month  week_of_year     month      open      high  \\\n",
       "0     0.333333     -0.333333      0.384615  0.454545 -0.993056 -0.993463   \n",
       "1     0.333333     -0.333333      0.384615  0.454545 -0.993097 -0.993294   \n",
       "2     0.333333     -0.333333      0.384615  0.454545 -0.992952 -0.993326   \n",
       "3     0.333333     -0.333333      0.384615  0.454545 -0.992959 -0.993333   \n",
       "4     0.333333     -0.333333      0.384615  0.454545 -0.992973 -0.993351   \n",
       "\n",
       "        low  close_change     close  \n",
       "0 -0.992628      0.242895 -0.993097  \n",
       "1 -0.992559      0.244938 -0.992952  \n",
       "2 -0.992456      0.242802 -0.992959  \n",
       "3 -0.992439      0.242697 -0.992973  \n",
       "4 -0.992535      0.243169 -0.992953  "
      ]
     },
     "execution_count": 15,
     "metadata": {},
     "output_type": "execute_result"
    }
   ],
   "source": [
    "train_df.head()"
   ]
  },
  {
   "cell_type": "code",
   "execution_count": 16,
   "id": "5b922456-45fc-4fc8-92d8-6f9a9dd5c315",
   "metadata": {},
   "outputs": [],
   "source": [
    "#Создаем функцию по формированию последовательности\n",
    "def create_sequences(input_data: pd.DataFrame, target_column, sequence_length):\n",
    "    sequences = []\n",
    "    data_size = len(input_data)\n",
    "\n",
    "    for i in tqdm(range(data_size - sequence_length)):\n",
    "        sequence = input_data[i:i+sequence_length]\n",
    "        label_position = i+sequence_length\n",
    "        label = input_data.iloc[label_position][target_column]\n",
    "        sequences.append((sequence, label))\n",
    "    return sequences"
   ]
  },
  {
   "cell_type": "code",
   "execution_count": 17,
   "id": "1413c194-cff3-4569-80b3-616f7d9a6c93",
   "metadata": {},
   "outputs": [
    {
     "data": {
      "text/html": [
       "<div>\n",
       "<style scoped>\n",
       "    .dataframe tbody tr th:only-of-type {\n",
       "        vertical-align: middle;\n",
       "    }\n",
       "\n",
       "    .dataframe tbody tr th {\n",
       "        vertical-align: top;\n",
       "    }\n",
       "\n",
       "    .dataframe thead th {\n",
       "        text-align: right;\n",
       "    }\n",
       "</style>\n",
       "<table border=\"1\" class=\"dataframe\">\n",
       "  <thead>\n",
       "    <tr style=\"text-align: right;\">\n",
       "      <th></th>\n",
       "      <th>feature_1</th>\n",
       "      <th>label</th>\n",
       "    </tr>\n",
       "  </thead>\n",
       "  <tbody>\n",
       "    <tr>\n",
       "      <th>0</th>\n",
       "      <td>1</td>\n",
       "      <td>6</td>\n",
       "    </tr>\n",
       "    <tr>\n",
       "      <th>1</th>\n",
       "      <td>2</td>\n",
       "      <td>7</td>\n",
       "    </tr>\n",
       "    <tr>\n",
       "      <th>2</th>\n",
       "      <td>3</td>\n",
       "      <td>8</td>\n",
       "    </tr>\n",
       "    <tr>\n",
       "      <th>3</th>\n",
       "      <td>4</td>\n",
       "      <td>9</td>\n",
       "    </tr>\n",
       "    <tr>\n",
       "      <th>4</th>\n",
       "      <td>5</td>\n",
       "      <td>10</td>\n",
       "    </tr>\n",
       "  </tbody>\n",
       "</table>\n",
       "</div>"
      ],
      "text/plain": [
       "   feature_1  label\n",
       "0          1      6\n",
       "1          2      7\n",
       "2          3      8\n",
       "3          4      9\n",
       "4          5     10"
      ]
     },
     "execution_count": 17,
     "metadata": {},
     "output_type": "execute_result"
    }
   ],
   "source": [
    "#Создаем пример и обкатываем последовательности на нем\n",
    "sample_data = pd.DataFrame(dict(\n",
    "    feature_1=[1,2,3,4,5],\n",
    "    label=[6,7,8,9,10]\n",
    "))\n",
    "\n",
    "sample_data.head()"
   ]
  },
  {
   "cell_type": "code",
   "execution_count": 18,
   "id": "aa0a435c-a8db-42a9-9c9b-3ba8e6dbd93b",
   "metadata": {},
   "outputs": [
    {
     "data": {
      "application/vnd.jupyter.widget-view+json": {
       "model_id": "00d7f4186d5a4f1fb65a5f652bead8ad",
       "version_major": 2,
       "version_minor": 0
      },
      "text/plain": [
       "  0%|          | 0/2 [00:00<?, ?it/s]"
      ]
     },
     "metadata": {},
     "output_type": "display_data"
    }
   ],
   "source": [
    "sample_sequences = create_sequences(sample_data, \"label\", sequence_length=3)"
   ]
  },
  {
   "cell_type": "code",
   "execution_count": 19,
   "id": "41ea2c1d-f678-4525-acd2-1d6ffe7b0d35",
   "metadata": {},
   "outputs": [
    {
     "data": {
      "application/vnd.jupyter.widget-view+json": {
       "model_id": "5fa05895a796470ebc1eed2c2bad4ff2",
       "version_major": 2,
       "version_minor": 0
      },
      "text/plain": [
       "  0%|          | 0/245839 [00:00<?, ?it/s]"
      ]
     },
     "metadata": {},
     "output_type": "display_data"
    },
    {
     "data": {
      "application/vnd.jupyter.widget-view+json": {
       "model_id": "4a955adb8e3d44cfa5b6509f8d148048",
       "version_major": 2,
       "version_minor": 0
      },
      "text/plain": [
       "  0%|          | 0/27208 [00:00<?, ?it/s]"
      ]
     },
     "metadata": {},
     "output_type": "display_data"
    }
   ],
   "source": [
    "#Все ок, создаем целевые последовательности\n",
    "SEQUENCE_LENGTH = 120\n",
    "\n",
    "train_sequences = create_sequences(train_df, \"close\", SEQUENCE_LENGTH)\n",
    "test_sequences = create_sequences(test_df, \"close\", SEQUENCE_LENGTH)"
   ]
  },
  {
   "cell_type": "code",
   "execution_count": 20,
   "id": "86939a21-0bb3-4ab7-9bf9-0bcbe3bc0de3",
   "metadata": {},
   "outputs": [],
   "source": [
    "#Создаем класс преобразования датасета в тензор\n",
    "class BTCDataset(Dataset):\n",
    "    def __init__(self,sequences):\n",
    "        self.sequences = sequences\n",
    "\n",
    "    def __len__(self):\n",
    "        return len(self.sequences)\n",
    "\n",
    "    def __getitem__(self,idx):\n",
    "        sequence, label = self.sequences[idx]\n",
    "\n",
    "        return dict(\n",
    "            sequence=torch.Tensor(sequence.to_numpy()),\n",
    "            label=torch.tensor(label).float()\n",
    "        )"
   ]
  },
  {
   "cell_type": "code",
   "execution_count": 21,
   "id": "9f340731-ae50-4b29-80ae-1a13702e1ad3",
   "metadata": {},
   "outputs": [],
   "source": [
    "#Создаем класс для преобразования данных в модуль pytorch ligthning\n",
    "class BTCPriceDataModule(pl.LightningDataModule):\n",
    "\n",
    "    def __init__(\n",
    "        self, train_sequences, test_sequences, batch_size=8\n",
    "    ):\n",
    "        super().__init__()\n",
    "        self.train_sequences = train_sequences\n",
    "        self.test_sequences = test_sequences\n",
    "        self.batch_size = batch_size\n",
    "\n",
    "    def setup(self, stage=None):\n",
    "        self.train_dataset = BTCDataset(self.train_sequences)\n",
    "        self.test_dataset = BTCDataset(self.test_sequences)\n",
    "\n",
    "    def train_dataloader(self):\n",
    "        return DataLoader(\n",
    "            self.train_dataset,\n",
    "            batch_size=self.batch_size,\n",
    "            shuffle=False,\n",
    "            num_workers=2\n",
    "        )\n",
    "\n",
    "    def val_dataloader(self):\n",
    "        return DataLoader(\n",
    "            self.test_dataset,\n",
    "            batch_size=1,\n",
    "            shuffle=False,\n",
    "            num_workers=1\n",
    "        )\n",
    "\n",
    "    def test_dataloader(self):\n",
    "        return DataLoader(\n",
    "            self.test_dataset,\n",
    "            batch_size=1,\n",
    "            shuffle=False,\n",
    "            num_workers=1\n",
    "        )"
   ]
  },
  {
   "cell_type": "code",
   "execution_count": 22,
   "id": "2c0c650e-009b-4b50-ad7b-8c3fd7a3bf59",
   "metadata": {},
   "outputs": [],
   "source": [
    "N_EPOCHS = 8\n",
    "BATCH_SIZE = 64\n",
    "\n",
    "data_module = BTCPriceDataModule(train_sequences, test_sequences, batch_size=BATCH_SIZE)\n",
    "data_module.setup()"
   ]
  },
  {
   "cell_type": "code",
   "execution_count": 23,
   "id": "0fc120ff-6b76-4ac1-8c87-7f446d0040de",
   "metadata": {},
   "outputs": [],
   "source": [
    "train_dataset = BTCDataset(train_sequences)"
   ]
  },
  {
   "cell_type": "code",
   "execution_count": 24,
   "id": "f764f29b-3e9c-4235-b574-3444607146d6",
   "metadata": {},
   "outputs": [
    {
     "name": "stdout",
     "output_type": "stream",
     "text": [
      "torch.Size([120, 9])\n",
      "torch.Size([])\n",
      "tensor(-0.9903)\n"
     ]
    }
   ],
   "source": [
    "for item in train_dataset:\n",
    "    print(item[\"sequence\"].shape)\n",
    "    print(item[\"label\"].shape)\n",
    "    print(item[\"label\"])\n",
    "    break"
   ]
  },
  {
   "cell_type": "code",
   "execution_count": 25,
   "id": "677da90d-78c1-41c4-8dcb-ae0a9972a689",
   "metadata": {},
   "outputs": [],
   "source": [
    "#Создаем класс LSTM\n",
    "class PricePredictionModel(nn.Module):\n",
    "    def __init__(self, n_features, n_hidden=128, n_layers=2):\n",
    "        super().__init__()\n",
    "        \n",
    "        self.n_hidden = n_hidden\n",
    "        \n",
    "        self.lstm = nn.LSTM(\n",
    "        input_size=n_features,\n",
    "        hidden_size=n_hidden,\n",
    "        batch_first=True,\n",
    "        num_layers=n_layers,\n",
    "        dropout=0.2\n",
    "        )\n",
    "\n",
    "        self.regressor = nn.Linear(n_hidden, 1)\n",
    "\n",
    "    def forward(self, x):\n",
    "        self.lstm.flatten_parameters()\n",
    "\n",
    "        _,(hidden, _) = self.lstm(x)\n",
    "        out = hidden[-1]\n",
    "        return self.regressor(out)"
   ]
  },
  {
   "cell_type": "code",
   "execution_count": 26,
   "id": "7110edc8-54d2-49a0-b7ad-f31319f6e636",
   "metadata": {},
   "outputs": [],
   "source": [
    "#Создаем класс для проверки результатов работы модели и переобучения\n",
    "class BTCPricePredictor(pl.LightningModule):\n",
    "    def __init__(self, n_features: int):\n",
    "        super().__init__()\n",
    "        self.model = PricePredictionModel(n_features)\n",
    "        self.criterion = nn.MSELoss()\n",
    "\n",
    "    def forward(self, x, labels=None):\n",
    "        output = self.model(x)\n",
    "        loss = 0\n",
    "        if labels is not None:\n",
    "            loss = self.criterion(output, labels.unsqueeze(dim=1))\n",
    "        return loss, output\n",
    "\n",
    "    def training_step(self, batch, batch_idx):\n",
    "        sequences = batch[\"sequence\"]\n",
    "        labels = batch[\"label\"]\n",
    "\n",
    "        loss, outputs = self(sequences, labels)\n",
    "        self.log(\"train_loss\", loss, prog_bar=True, logger=True)\n",
    "        return loss\n",
    "\n",
    "    def validation_step(self, batch, batch_idx):\n",
    "        sequences = batch[\"sequence\"]\n",
    "        labels = batch[\"label\"]\n",
    "\n",
    "        loss, outputs = self(sequences, labels)\n",
    "        self.log(\"val_loss\", loss, prog_bar=True, logger=True)\n",
    "        return loss\n",
    "\n",
    "    def test_step(self, batch, batch_idx):\n",
    "        sequences = batch[\"sequence\"]\n",
    "        labels = batch[\"label\"]\n",
    "\n",
    "        loss, outputs = self(sequences, labels)\n",
    "        self.log(\"test_loss\", loss, prog_bar=True, logger=True)\n",
    "        return loss\n",
    "\n",
    "    def configure_optimizers(self):\n",
    "        return optim.AdamW(self.parameters(), lr=0.0001)"
   ]
  },
  {
   "cell_type": "code",
   "execution_count": 27,
   "id": "33e29ce5-c903-47b7-a466-5bd66d1541a1",
   "metadata": {},
   "outputs": [],
   "source": [
    "model = BTCPricePredictor(n_features=train_df.shape[1])\n",
    "model = model.to(device)"
   ]
  },
  {
   "cell_type": "code",
   "execution_count": 28,
   "id": "9faeb856-2427-46d3-af5b-b2713484c5fd",
   "metadata": {},
   "outputs": [
    {
     "name": "stdout",
     "output_type": "stream",
     "text": [
      "torch.Size([64, 120, 9])\n",
      "torch.Size([64])\n"
     ]
    }
   ],
   "source": [
    "for item in data_module.train_dataloader():\n",
    "    #print(item.keys())\n",
    "    #break\n",
    "    print(item[\"sequence\"].shape)\n",
    "    print(item[\"label\"].shape)\n",
    "    #print(item[\"label\"])\n",
    "    break"
   ]
  },
  {
   "cell_type": "code",
   "execution_count": 29,
   "id": "619965db-099f-4d06-9860-99135ff8a115",
   "metadata": {},
   "outputs": [
    {
     "name": "stderr",
     "output_type": "stream",
     "text": [
      "GPU available: True (cuda), used: True\n",
      "TPU available: False, using: 0 TPU cores\n",
      "HPU available: False, using: 0 HPUs\n"
     ]
    }
   ],
   "source": [
    "#Перед обучением нужно прописать параметры по формированию контрольных точек и параметры тренера\n",
    "from torch.utils.tensorboard import SummaryWriter\n",
    "checkpoint_callback = ModelCheckpoint(\n",
    "    dirpath=\"checkpoints\",\n",
    "    filename=\"best-checkpoint\",\n",
    "    save_top_k=1,\n",
    "    verbose=True,\n",
    "    monitor=\"val_loss\",\n",
    "    mode=\"min\"\n",
    ")\n",
    "\n",
    "logger = TensorBoardLogger(\"lightning_logs\", name=\"btc-price\")\n",
    "\n",
    "early_stopping_callback = EarlyStopping(monitor=\"val_loss\", patience=2)\n",
    "\n",
    "trainer = pl.Trainer(\n",
    "    logger=logger,\n",
    "    callbacks=[checkpoint_callback,early_stopping_callback],\n",
    "    max_epochs=N_EPOCHS\n",
    "    #gpus=True\n",
    "    #progress_bar_refresh_rate=30\n",
    ")"
   ]
  },
  {
   "cell_type": "code",
   "execution_count": 30,
   "id": "ed3903d5-c095-4e80-ab30-fdfe572e8c86",
   "metadata": {},
   "outputs": [
    {
     "name": "stderr",
     "output_type": "stream",
     "text": [
      "You are using a CUDA device ('NVIDIA GeForce RTX 3060 Laptop GPU') that has Tensor Cores. To properly utilize them, you should set `torch.set_float32_matmul_precision('medium' | 'high')` which will trade-off precision for performance. For more details, read https://pytorch.org/docs/stable/generated/torch.set_float32_matmul_precision.html#torch.set_float32_matmul_precision\n",
      "/home/mandarin/anaconda3/envs/mlenv/lib/python3.11/site-packages/pytorch_lightning/callbacks/model_checkpoint.py:654: Checkpoint directory /home/mandarin/pyprog/checkpoints exists and is not empty.\n",
      "LOCAL_RANK: 0 - CUDA_VISIBLE_DEVICES: [0]\n",
      "\n",
      "  | Name      | Type                 | Params | Mode \n",
      "-----------------------------------------------------------\n",
      "0 | model     | PricePredictionModel | 203 K  | train\n",
      "1 | criterion | MSELoss              | 0      | train\n",
      "-----------------------------------------------------------\n",
      "203 K     Trainable params\n",
      "0         Non-trainable params\n",
      "203 K     Total params\n",
      "0.814     Total estimated model params size (MB)\n",
      "4         Modules in train mode\n",
      "0         Modules in eval mode\n"
     ]
    },
    {
     "data": {
      "application/vnd.jupyter.widget-view+json": {
       "model_id": "",
       "version_major": 2,
       "version_minor": 0
      },
      "text/plain": [
       "Sanity Checking: |                                        | 0/? [00:00<?, ?it/s]"
      ]
     },
     "metadata": {},
     "output_type": "display_data"
    },
    {
     "name": "stderr",
     "output_type": "stream",
     "text": [
      "/home/mandarin/anaconda3/envs/mlenv/lib/python3.11/site-packages/pytorch_lightning/trainer/connectors/data_connector.py:425: The 'val_dataloader' does not have many workers which may be a bottleneck. Consider increasing the value of the `num_workers` argument` to `num_workers=15` in the `DataLoader` to improve performance.\n"
     ]
    },
    {
     "data": {
      "application/vnd.jupyter.widget-view+json": {
       "model_id": "827489326ddc47cdb6189789c0b1f048",
       "version_major": 2,
       "version_minor": 0
      },
      "text/plain": [
       "Training: |                                               | 0/? [00:00<?, ?it/s]"
      ]
     },
     "metadata": {},
     "output_type": "display_data"
    },
    {
     "data": {
      "application/vnd.jupyter.widget-view+json": {
       "model_id": "",
       "version_major": 2,
       "version_minor": 0
      },
      "text/plain": [
       "Validation: |                                             | 0/? [00:00<?, ?it/s]"
      ]
     },
     "metadata": {},
     "output_type": "display_data"
    },
    {
     "name": "stderr",
     "output_type": "stream",
     "text": [
      "Epoch 0, global step 3842: 'val_loss' reached 0.11395 (best 0.11395), saving model to '/home/mandarin/pyprog/checkpoints/best-checkpoint-v3.ckpt' as top 1\n"
     ]
    },
    {
     "data": {
      "application/vnd.jupyter.widget-view+json": {
       "model_id": "",
       "version_major": 2,
       "version_minor": 0
      },
      "text/plain": [
       "Validation: |                                             | 0/? [00:00<?, ?it/s]"
      ]
     },
     "metadata": {},
     "output_type": "display_data"
    },
    {
     "name": "stderr",
     "output_type": "stream",
     "text": [
      "Epoch 1, global step 7684: 'val_loss' reached 0.04723 (best 0.04723), saving model to '/home/mandarin/pyprog/checkpoints/best-checkpoint-v3.ckpt' as top 1\n"
     ]
    },
    {
     "data": {
      "application/vnd.jupyter.widget-view+json": {
       "model_id": "",
       "version_major": 2,
       "version_minor": 0
      },
      "text/plain": [
       "Validation: |                                             | 0/? [00:00<?, ?it/s]"
      ]
     },
     "metadata": {},
     "output_type": "display_data"
    },
    {
     "name": "stderr",
     "output_type": "stream",
     "text": [
      "IOPub message rate exceeded.\n",
      "The Jupyter server will temporarily stop sending output\n",
      "to the client in order to avoid crashing it.\n",
      "To change this limit, set the config variable\n",
      "`--ServerApp.iopub_msg_rate_limit`.\n",
      "\n",
      "Current values:\n",
      "ServerApp.iopub_msg_rate_limit=1000.0 (msgs/sec)\n",
      "ServerApp.rate_limit_window=3.0 (secs)\n",
      "\n",
      "IOPub message rate exceeded.\n",
      "The Jupyter server will temporarily stop sending output\n",
      "to the client in order to avoid crashing it.\n",
      "To change this limit, set the config variable\n",
      "`--ServerApp.iopub_msg_rate_limit`.\n",
      "\n",
      "Current values:\n",
      "ServerApp.iopub_msg_rate_limit=1000.0 (msgs/sec)\n",
      "ServerApp.rate_limit_window=3.0 (secs)\n",
      "\n",
      "Epoch 2, global step 11526: 'val_loss' reached 0.02326 (best 0.02326), saving model to '/home/mandarin/pyprog/checkpoints/best-checkpoint-v3.ckpt' as top 1\n"
     ]
    },
    {
     "data": {
      "application/vnd.jupyter.widget-view+json": {
       "model_id": "",
       "version_major": 2,
       "version_minor": 0
      },
      "text/plain": [
       "Validation: |                                             | 0/? [00:00<?, ?it/s]"
      ]
     },
     "metadata": {},
     "output_type": "display_data"
    },
    {
     "name": "stderr",
     "output_type": "stream",
     "text": [
      "Epoch 3, global step 15368: 'val_loss' was not in top 1\n"
     ]
    },
    {
     "data": {
      "application/vnd.jupyter.widget-view+json": {
       "model_id": "",
       "version_major": 2,
       "version_minor": 0
      },
      "text/plain": [
       "Validation: |                                             | 0/? [00:00<?, ?it/s]"
      ]
     },
     "metadata": {},
     "output_type": "display_data"
    },
    {
     "name": "stderr",
     "output_type": "stream",
     "text": [
      "Epoch 4, global step 19210: 'val_loss' was not in top 1\n"
     ]
    }
   ],
   "source": [
    "#Обучаем модель\n",
    "trainer.fit(model, data_module)"
   ]
  },
  {
   "cell_type": "code",
   "execution_count": 31,
   "id": "b47a5b9e-f687-49a6-b484-4e5ec1e91a7f",
   "metadata": {},
   "outputs": [],
   "source": [
    "#Берем самую лучшую модель\n",
    "trained_model = BTCPricePredictor.load_from_checkpoint(\n",
    "    \"checkpoints/best-checkpoint.ckpt\",\n",
    "   n_features=train_df.shape[1]\n",
    ")"
   ]
  },
  {
   "cell_type": "code",
   "execution_count": 32,
   "id": "f58e50de-4967-4477-9bae-9ff2de0acd49",
   "metadata": {},
   "outputs": [],
   "source": [
    "trained_model.freeze()"
   ]
  },
  {
   "cell_type": "code",
   "execution_count": 33,
   "id": "ac18ee65-3e59-4170-8a8b-b526d0528361",
   "metadata": {},
   "outputs": [
    {
     "data": {
      "application/vnd.jupyter.widget-view+json": {
       "model_id": "eefaa55cc79c42fab88f4246d25ae178",
       "version_major": 2,
       "version_minor": 0
      },
      "text/plain": [
       "  0%|          | 0/27208 [00:00<?, ?it/s]"
      ]
     },
     "metadata": {},
     "output_type": "display_data"
    }
   ],
   "source": [
    "#Используем обученную модель для тестовых данных для получения целевых переменных\n",
    "test_dataset = BTCDataset(test_sequences)\n",
    "predictions = []\n",
    "labels = []\n",
    "\n",
    "for item in tqdm(test_dataset):\n",
    "    sequence = item[\"sequence\"]\n",
    "    sequence = sequence.to(device)\n",
    "    label = item[\"label\"]\n",
    "    label = label.to(device)\n",
    "\n",
    "    _, output = trained_model(sequence.unsqueeze(dim=0))\n",
    "    predictions.append(output.item())\n",
    "    labels.append(label.item())"
   ]
  },
  {
   "cell_type": "code",
   "execution_count": 34,
   "id": "d9672c4f-ccbc-420f-9819-5c2ad8c4af5d",
   "metadata": {},
   "outputs": [
    {
     "data": {
      "text/plain": [
       "(27208, 27328)"
      ]
     },
     "execution_count": 34,
     "metadata": {},
     "output_type": "execute_result"
    }
   ],
   "source": [
    "len(predictions), len(test_df)"
   ]
  },
  {
   "cell_type": "code",
   "execution_count": 35,
   "id": "2fdb5ebf-8fec-451a-af94-7e05af89c2e8",
   "metadata": {},
   "outputs": [
    {
     "data": {
      "text/plain": [
       "27208"
      ]
     },
     "execution_count": 35,
     "metadata": {},
     "output_type": "execute_result"
    }
   ],
   "source": [
    "#Кол-во предсказанных значений и кол-во тестовых данных не соответствует друг другу, нужно вычесть кол-во последовательностей для сравнения данных\n",
    "len(test_df) - SEQUENCE_LENGTH"
   ]
  },
  {
   "cell_type": "code",
   "execution_count": 36,
   "id": "17224b97-d9b3-4248-b6a6-347cb4424047",
   "metadata": {},
   "outputs": [
    {
     "data": {
      "text/html": [
       "<div>\n",
       "<style scoped>\n",
       "    .dataframe tbody tr th:only-of-type {\n",
       "        vertical-align: middle;\n",
       "    }\n",
       "\n",
       "    .dataframe tbody tr th {\n",
       "        vertical-align: top;\n",
       "    }\n",
       "\n",
       "    .dataframe thead th {\n",
       "        text-align: right;\n",
       "    }\n",
       "</style>\n",
       "<table border=\"1\" class=\"dataframe\">\n",
       "  <thead>\n",
       "    <tr style=\"text-align: right;\">\n",
       "      <th></th>\n",
       "      <th>day_of_week</th>\n",
       "      <th>day_of_month</th>\n",
       "      <th>week_of_year</th>\n",
       "      <th>month</th>\n",
       "      <th>open</th>\n",
       "      <th>high</th>\n",
       "      <th>low</th>\n",
       "      <th>close_change</th>\n",
       "      <th>close</th>\n",
       "    </tr>\n",
       "  </thead>\n",
       "  <tbody>\n",
       "    <tr>\n",
       "      <th>245960</th>\n",
       "      <td>-1.0</td>\n",
       "      <td>-1.0</td>\n",
       "      <td>-0.692308</td>\n",
       "      <td>-0.636364</td>\n",
       "      <td>0.624959</td>\n",
       "      <td>0.625899</td>\n",
       "      <td>0.621585</td>\n",
       "      <td>0.176448</td>\n",
       "      <td>0.620668</td>\n",
       "    </tr>\n",
       "    <tr>\n",
       "      <th>245961</th>\n",
       "      <td>-1.0</td>\n",
       "      <td>-1.0</td>\n",
       "      <td>-0.692308</td>\n",
       "      <td>-0.636364</td>\n",
       "      <td>0.620549</td>\n",
       "      <td>0.623429</td>\n",
       "      <td>0.620050</td>\n",
       "      <td>0.283102</td>\n",
       "      <td>0.623527</td>\n",
       "    </tr>\n",
       "    <tr>\n",
       "      <th>245962</th>\n",
       "      <td>-1.0</td>\n",
       "      <td>-1.0</td>\n",
       "      <td>-0.692308</td>\n",
       "      <td>-0.636364</td>\n",
       "      <td>0.623528</td>\n",
       "      <td>0.626200</td>\n",
       "      <td>0.622503</td>\n",
       "      <td>0.255128</td>\n",
       "      <td>0.624397</td>\n",
       "    </tr>\n",
       "    <tr>\n",
       "      <th>245963</th>\n",
       "      <td>-1.0</td>\n",
       "      <td>-1.0</td>\n",
       "      <td>-0.692308</td>\n",
       "      <td>-0.636364</td>\n",
       "      <td>0.624246</td>\n",
       "      <td>0.625320</td>\n",
       "      <td>0.622957</td>\n",
       "      <td>0.220180</td>\n",
       "      <td>0.622782</td>\n",
       "    </tr>\n",
       "    <tr>\n",
       "      <th>245964</th>\n",
       "      <td>-1.0</td>\n",
       "      <td>-1.0</td>\n",
       "      <td>-0.692308</td>\n",
       "      <td>-0.636364</td>\n",
       "      <td>0.622783</td>\n",
       "      <td>0.624252</td>\n",
       "      <td>0.623575</td>\n",
       "      <td>0.263818</td>\n",
       "      <td>0.624270</td>\n",
       "    </tr>\n",
       "  </tbody>\n",
       "</table>\n",
       "</div>"
      ],
      "text/plain": [
       "        day_of_week  day_of_month  week_of_year     month      open      high  \\\n",
       "245960         -1.0          -1.0     -0.692308 -0.636364  0.624959  0.625899   \n",
       "245961         -1.0          -1.0     -0.692308 -0.636364  0.620549  0.623429   \n",
       "245962         -1.0          -1.0     -0.692308 -0.636364  0.623528  0.626200   \n",
       "245963         -1.0          -1.0     -0.692308 -0.636364  0.624246  0.625320   \n",
       "245964         -1.0          -1.0     -0.692308 -0.636364  0.622783  0.624252   \n",
       "\n",
       "             low  close_change     close  \n",
       "245960  0.621585      0.176448  0.620668  \n",
       "245961  0.620050      0.283102  0.623527  \n",
       "245962  0.622503      0.255128  0.624397  \n",
       "245963  0.622957      0.220180  0.622782  \n",
       "245964  0.623575      0.263818  0.624270  "
      ]
     },
     "execution_count": 36,
     "metadata": {},
     "output_type": "execute_result"
    }
   ],
   "source": [
    "test_df.head()"
   ]
  },
  {
   "cell_type": "code",
   "execution_count": 37,
   "id": "60f67bab-fb99-483e-b898-7ef981574eef",
   "metadata": {},
   "outputs": [],
   "source": [
    "#Проводим обратное масштабирование для сравнения данных\n",
    "descaler = MinMaxScaler()\n",
    "descaler.min_, descaler.scale_ = scaler.min_[-1], scaler.scale_[-1]"
   ]
  },
  {
   "cell_type": "code",
   "execution_count": 38,
   "id": "d0716014-c9cb-419a-b62c-e23cfee1cad6",
   "metadata": {},
   "outputs": [],
   "source": [
    "def descale(descaler, values):\n",
    "    values_2d = np.array(values)[:, np.newaxis]\n",
    "    return descaler.inverse_transform(values_2d).flatten()"
   ]
  },
  {
   "cell_type": "code",
   "execution_count": 39,
   "id": "6974dc38-e692-4a1e-bd24-8151d0c99d6a",
   "metadata": {},
   "outputs": [],
   "source": [
    "predictions_descaled = descale(descaler, predictions)\n",
    "labels_descaled = descale(descaler, labels)"
   ]
  },
  {
   "cell_type": "code",
   "execution_count": 40,
   "id": "4167a30a-d7c8-416b-875d-ae3a264ab2b6",
   "metadata": {},
   "outputs": [
    {
     "data": {
      "text/plain": [
       "array([49273.18031831, 49240.86975907, 49205.17003054, 49181.88959693,\n",
       "       49073.28969868])"
      ]
     },
     "execution_count": 40,
     "metadata": {},
     "output_type": "execute_result"
    }
   ],
   "source": [
    "labels_descaled[:5]"
   ]
  },
  {
   "cell_type": "code",
   "execution_count": 41,
   "id": "dd4f5a27-07be-44ad-a9f6-1a9c38673355",
   "metadata": {},
   "outputs": [
    {
     "data": {
      "text/plain": [
       "(27328, 27328)"
      ]
     },
     "execution_count": 41,
     "metadata": {},
     "output_type": "execute_result"
    }
   ],
   "source": [
    "test_data = df[train_size +1:]\n",
    "len(test_data), len(test_df)"
   ]
  },
  {
   "cell_type": "code",
   "execution_count": 42,
   "id": "c68930be-1141-46aa-b563-f28452c083f8",
   "metadata": {},
   "outputs": [
    {
     "data": {
      "text/plain": [
       "(27208, 27208)"
      ]
     },
     "execution_count": 42,
     "metadata": {},
     "output_type": "execute_result"
    }
   ],
   "source": [
    "test_sequences_data = test_data.iloc[SEQUENCE_LENGTH:]\n",
    "len(test_sequences_data), len(test_sequences)"
   ]
  },
  {
   "cell_type": "code",
   "execution_count": 43,
   "id": "83ac65bf-f5d9-4fc8-8494-c2c1e59d6d5e",
   "metadata": {},
   "outputs": [
    {
     "data": {
      "text/html": [
       "<div>\n",
       "<style scoped>\n",
       "    .dataframe tbody tr th:only-of-type {\n",
       "        vertical-align: middle;\n",
       "    }\n",
       "\n",
       "    .dataframe tbody tr th {\n",
       "        vertical-align: top;\n",
       "    }\n",
       "\n",
       "    .dataframe thead th {\n",
       "        text-align: right;\n",
       "    }\n",
       "</style>\n",
       "<table border=\"1\" class=\"dataframe\">\n",
       "  <thead>\n",
       "    <tr style=\"text-align: right;\">\n",
       "      <th></th>\n",
       "      <th>unix</th>\n",
       "      <th>date</th>\n",
       "      <th>symbol</th>\n",
       "      <th>open</th>\n",
       "      <th>high</th>\n",
       "      <th>low</th>\n",
       "      <th>close</th>\n",
       "      <th>Volume BTC</th>\n",
       "      <th>Volume USDT</th>\n",
       "      <th>tradecount</th>\n",
       "      <th>prev_close</th>\n",
       "      <th>close_change</th>\n",
       "    </tr>\n",
       "  </thead>\n",
       "  <tbody>\n",
       "    <tr>\n",
       "      <th>246080</th>\n",
       "      <td>1614647340000</td>\n",
       "      <td>2021-03-02 01:09:00</td>\n",
       "      <td>BTC/USDT</td>\n",
       "      <td>49219.14</td>\n",
       "      <td>49286.46</td>\n",
       "      <td>49195.55</td>\n",
       "      <td>49273.18</td>\n",
       "      <td>32.294265</td>\n",
       "      <td>1.590369e+06</td>\n",
       "      <td>933</td>\n",
       "      <td>49220.10</td>\n",
       "      <td>53.08</td>\n",
       "    </tr>\n",
       "    <tr>\n",
       "      <th>246081</th>\n",
       "      <td>1614647400000</td>\n",
       "      <td>2021-03-02 01:10:00</td>\n",
       "      <td>BTC/USDT</td>\n",
       "      <td>49273.97</td>\n",
       "      <td>49278.37</td>\n",
       "      <td>49212.81</td>\n",
       "      <td>49240.87</td>\n",
       "      <td>22.888346</td>\n",
       "      <td>1.127200e+06</td>\n",
       "      <td>685</td>\n",
       "      <td>49273.18</td>\n",
       "      <td>-32.31</td>\n",
       "    </tr>\n",
       "    <tr>\n",
       "      <th>246082</th>\n",
       "      <td>1614647460000</td>\n",
       "      <td>2021-03-02 01:11:00</td>\n",
       "      <td>BTC/USDT</td>\n",
       "      <td>49240.87</td>\n",
       "      <td>49241.00</td>\n",
       "      <td>49200.00</td>\n",
       "      <td>49205.17</td>\n",
       "      <td>19.337932</td>\n",
       "      <td>9.518597e+05</td>\n",
       "      <td>831</td>\n",
       "      <td>49240.87</td>\n",
       "      <td>-35.70</td>\n",
       "    </tr>\n",
       "    <tr>\n",
       "      <th>246083</th>\n",
       "      <td>1614647520000</td>\n",
       "      <td>2021-03-02 01:12:00</td>\n",
       "      <td>BTC/USDT</td>\n",
       "      <td>49200.20</td>\n",
       "      <td>49205.32</td>\n",
       "      <td>49178.15</td>\n",
       "      <td>49181.89</td>\n",
       "      <td>18.227805</td>\n",
       "      <td>8.967020e+05</td>\n",
       "      <td>706</td>\n",
       "      <td>49205.17</td>\n",
       "      <td>-23.28</td>\n",
       "    </tr>\n",
       "    <tr>\n",
       "      <th>246084</th>\n",
       "      <td>1614647580000</td>\n",
       "      <td>2021-03-02 01:13:00</td>\n",
       "      <td>BTC/USDT</td>\n",
       "      <td>49181.48</td>\n",
       "      <td>49181.48</td>\n",
       "      <td>49060.60</td>\n",
       "      <td>49073.29</td>\n",
       "      <td>29.791624</td>\n",
       "      <td>1.463463e+06</td>\n",
       "      <td>1163</td>\n",
       "      <td>49181.89</td>\n",
       "      <td>-108.60</td>\n",
       "    </tr>\n",
       "  </tbody>\n",
       "</table>\n",
       "</div>"
      ],
      "text/plain": [
       "                 unix                date    symbol      open      high  \\\n",
       "246080  1614647340000 2021-03-02 01:09:00  BTC/USDT  49219.14  49286.46   \n",
       "246081  1614647400000 2021-03-02 01:10:00  BTC/USDT  49273.97  49278.37   \n",
       "246082  1614647460000 2021-03-02 01:11:00  BTC/USDT  49240.87  49241.00   \n",
       "246083  1614647520000 2021-03-02 01:12:00  BTC/USDT  49200.20  49205.32   \n",
       "246084  1614647580000 2021-03-02 01:13:00  BTC/USDT  49181.48  49181.48   \n",
       "\n",
       "             low     close  Volume BTC   Volume USDT  tradecount  prev_close  \\\n",
       "246080  49195.55  49273.18   32.294265  1.590369e+06         933    49220.10   \n",
       "246081  49212.81  49240.87   22.888346  1.127200e+06         685    49273.18   \n",
       "246082  49200.00  49205.17   19.337932  9.518597e+05         831    49240.87   \n",
       "246083  49178.15  49181.89   18.227805  8.967020e+05         706    49205.17   \n",
       "246084  49060.60  49073.29   29.791624  1.463463e+06        1163    49181.89   \n",
       "\n",
       "        close_change  \n",
       "246080         53.08  \n",
       "246081        -32.31  \n",
       "246082        -35.70  \n",
       "246083        -23.28  \n",
       "246084       -108.60  "
      ]
     },
     "execution_count": 43,
     "metadata": {},
     "output_type": "execute_result"
    }
   ],
   "source": [
    "test_sequences_data.head()"
   ]
  },
  {
   "cell_type": "code",
   "execution_count": 44,
   "id": "8bdd4e29-8f87-4917-9286-825ffdaab693",
   "metadata": {},
   "outputs": [
    {
     "data": {
      "text/plain": [
       "<matplotlib.legend.Legend at 0x7a8d31c96250>"
      ]
     },
     "execution_count": 44,
     "metadata": {},
     "output_type": "execute_result"
    },
    {
     "data": {
      "image/png": "[encoded data removed]",
      "text/plain": [
       "<Figure size 640x480 with 1 Axes>"
      ]
     },
     "metadata": {},
     "output_type": "display_data"
    }
   ],
   "source": [
    "#Визуализация результатов\n",
    "dates = matplotlib.dates.date2num(test_sequences_data.date.tolist())\n",
    "plt.plot(dates, predictions_descaled, \"-\", label=\"predicted\")\n",
    "plt.plot(dates, labels_descaled, \"-\", label=\"real\")\n",
    "plt.xticks(rotation=45)\n",
    "plt.legend()"
   ]
  },
  {
   "cell_type": "code",
   "execution_count": 45,
   "id": "cbd9e28b-966d-4bd5-9a91-a22539b54909",
   "metadata": {},
   "outputs": [],
   "source": [
    "#Вывод: С первого взгляда модель работает неплохо, точно лучше предыдущих 2-х проектов, можно попробовать добавить новые признаки и посмотреть результаты."
   ]
  }
 ],
 "metadata": {
  "kernelspec": {
   "display_name": "Python 3 (ipykernel)",
   "language": "python",
   "name": "python3"
  },
  "language_info": {
   "codemirror_mode": {
    "name": "ipython",
    "version": 3
   },
   "file_extension": ".py",
   "mimetype": "text/x-python",
   "name": "python",
   "nbconvert_exporter": "python",
   "pygments_lexer": "ipython3",
   "version": "3.11.10"
  }
 },
 "nbformat": 4,
 "nbformat_minor": 5
}
